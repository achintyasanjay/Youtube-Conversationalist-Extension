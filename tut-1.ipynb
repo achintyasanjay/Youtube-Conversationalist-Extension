{
 "cells": [
  {
   "cell_type": "markdown",
   "metadata": {},
   "source": [
    "Tutorial link:\n",
    "https://www.mongodb.com/docs/atlas/atlas-vector-search/ai-integrations/langchain/"
   ]
  },
  {
   "cell_type": "code",
   "execution_count": 2,
   "metadata": {},
   "outputs": [],
   "source": [
    "import getpass, os, pymongo, pprint\n",
    "from langchain_community.document_loaders import PyPDFLoader\n",
    "from langchain_core.output_parsers import StrOutputParser\n",
    "from langchain_core.runnables import RunnablePassthrough\n",
    "from langchain_mongodb import MongoDBAtlasVectorSearch\n",
    "from langchain_openai import ChatOpenAI, OpenAIEmbeddings\n",
    "from langchain.prompts import PromptTemplate\n",
    "from langchain.text_splitter import RecursiveCharacterTextSplitter\n",
    "from pymongo import MongoClient"
   ]
  },
  {
   "cell_type": "code",
   "execution_count": 7,
   "metadata": {},
   "outputs": [],
   "source": [
    "os.environ[\"OPENAI_API_KEY\"] = getpass.getpass(\"OpenAI API Key:\")\n",
    "ATLAS_CONNECTION_STRING = getpass.getpass(\"MongoDB Atlas SRV Connection String:\")"
   ]
  },
  {
   "cell_type": "code",
   "execution_count": 8,
   "metadata": {},
   "outputs": [],
   "source": [
    "# Connect to your Atlas cluster\n",
    "client = MongoClient(ATLAS_CONNECTION_STRING)\n",
    "\n",
    "# Define collection and index name\n",
    "db_name = \"langchain_db\"\n",
    "collection_name = \"test\"\n",
    "atlas_collection = client[db_name][collection_name]\n",
    "vector_search_index = \"vector_index\""
   ]
  },
  {
   "cell_type": "code",
   "execution_count": 9,
   "metadata": {},
   "outputs": [
    {
     "data": {
      "text/plain": [
       "Document(page_content='Mong oDB Atlas Best P racticesJanuary 20 19A MongoD B White P aper', metadata={'source': 'https://query.prod.cms.rt.microsoft.com/cms/api/am/binary/RE4HkJP', 'page': 0})"
      ]
     },
     "execution_count": 9,
     "metadata": {},
     "output_type": "execute_result"
    }
   ],
   "source": [
    "# Load the PDF\n",
    "loader = PyPDFLoader(\"https://query.prod.cms.rt.microsoft.com/cms/api/am/binary/RE4HkJP\")\n",
    "data = loader.load()\n",
    "\n",
    "# Split PDF into documents\n",
    "text_splitter = RecursiveCharacterTextSplitter(chunk_size=200, chunk_overlap=20)\n",
    "docs = text_splitter.split_documents(data)\n",
    "\n",
    "# Print the first document\n",
    "docs[0]"
   ]
  },
  {
   "cell_type": "code",
   "execution_count": 10,
   "metadata": {},
   "outputs": [],
   "source": [
    "# Create the vector store\n",
    "vector_search = MongoDBAtlasVectorSearch.from_documents(\n",
    "    documents = docs,\n",
    "    embedding = OpenAIEmbeddings(disallowed_special=()),\n",
    "    collection = atlas_collection,\n",
    "    index_name = vector_search_index\n",
    ")"
   ]
  },
  {
   "cell_type": "code",
   "execution_count": 11,
   "metadata": {},
   "outputs": [
    {
     "name": "stdout",
     "output_type": "stream",
     "text": [
      "[Document(page_content='To ensure a secure system right out of the b ox,\\nauthentication and I P Address whitelisting are\\nautomatically enabled.\\nReview the security section of the MongoD B Atlas', metadata={'_id': {'$oid': '665b847e0e1fd5f2b980ba4e'}, 'source': 'https://query.prod.cms.rt.microsoft.com/cms/api/am/binary/RE4HkJP', 'page': 17}),\n",
      " Document(page_content='MongoD B Atlas team are also monitoring the underlying\\ninfrastructure, ensuring that it is always in a healthy state.\\nApplication L ogs And Database L ogs', metadata={'_id': {'$oid': '665b847e0e1fd5f2b980ba19'}, 'source': 'https://query.prod.cms.rt.microsoft.com/cms/api/am/binary/RE4HkJP', 'page': 15}),\n",
      " Document(page_content='MongoD B.\\nMongoD B Atlas incorporates best practices to help keep\\nmanaged databases healthy and optimized. T hey ensure\\noperational continuity by converting comple x manual tasks', metadata={'_id': {'$oid': '665b847e0e1fd5f2b980b9fc'}, 'source': 'https://query.prod.cms.rt.microsoft.com/cms/api/am/binary/RE4HkJP', 'page': 13}),\n",
      " Document(page_content='Atlas provides encryption of data at rest with encrypted\\nstorage volumes.\\nOptionally , Atlas users can configure an additional layer of\\nencryption on their data at rest using the MongoD B', metadata={'_id': {'$oid': '665b847e0e1fd5f2b980ba5c'}, 'source': 'https://query.prod.cms.rt.microsoft.com/cms/api/am/binary/RE4HkJP', 'page': 18})]\n"
     ]
    }
   ],
   "source": [
    "query = \"MongoDB Atlas security\"\n",
    "results = vector_search.similarity_search(query)\n",
    "\n",
    "pprint.pprint(results)"
   ]
  },
  {
   "cell_type": "markdown",
   "metadata": {},
   "source": [
    "Basic RAG"
   ]
  },
  {
   "cell_type": "code",
   "execution_count": 12,
   "metadata": {},
   "outputs": [
    {
     "name": "stdout",
     "output_type": "stream",
     "text": [
      "Question: How can I secure my MongoDB Atlas cluster?\n",
      "Answer: To secure your MongoDB Atlas cluster, you can enable authentication and IP address whitelisting, review the security section of the MongoDB Atlas documentation, monitor the underlying infrastructure, set up global clusters on cloud platforms, select appropriate instance size, storage size, and storage speed options, encrypt data at rest with encrypted storage volumes, configure additional encryption on data at rest, and consider setting up a larger number of replica nodes for increased protection against downtime.\n"
     ]
    },
    {
     "name": "stderr",
     "output_type": "stream",
     "text": [
      "/Users/mukuflash/Documents/Projects/Python/GenAIHackathonLLMApp/hack-dev/lib/python3.11/site-packages/langchain_core/_api/deprecation.py:119: LangChainDeprecationWarning: The method `BaseRetriever.get_relevant_documents` was deprecated in langchain-core 0.1.46 and will be removed in 0.3.0. Use invoke instead.\n",
      "  warn_deprecated(\n"
     ]
    },
    {
     "name": "stdout",
     "output_type": "stream",
     "text": [
      "\n",
      "Source documents:\n",
      "[Document(page_content='To ensure a secure system right out of the b ox,\\nauthentication and I P Address whitelisting are\\nautomatically enabled.\\nReview the security section of the MongoD B Atlas', metadata={'_id': {'$oid': '665b847e0e1fd5f2b980ba4e'}, 'source': 'https://query.prod.cms.rt.microsoft.com/cms/api/am/binary/RE4HkJP', 'page': 17}),\n",
      " Document(page_content='MongoD B Atlas team are also monitoring the underlying\\ninfrastructure, ensuring that it is always in a healthy state.\\nApplication L ogs And Database L ogs', metadata={'_id': {'$oid': '665b847e0e1fd5f2b980ba19'}, 'source': 'https://query.prod.cms.rt.microsoft.com/cms/api/am/binary/RE4HkJP', 'page': 15}),\n",
      " Document(page_content='All the user needs to do in order for MongoD B Atlas to\\nautomatically deploy the cluster is to select a handful of\\noptions:\\n•Instance size\\n•Storage size (optional)\\n•Storage speed (optional)', metadata={'_id': {'$oid': '665b847e0e1fd5f2b980ba07'}, 'source': 'https://query.prod.cms.rt.microsoft.com/cms/api/am/binary/RE4HkJP', 'page': 14}),\n",
      " Document(page_content='MongoD B.\\nMongoD B Atlas incorporates best practices to help keep\\nmanaged databases healthy and optimized. T hey ensure\\noperational continuity by converting comple x manual tasks', metadata={'_id': {'$oid': '665b847e0e1fd5f2b980b9fc'}, 'source': 'https://query.prod.cms.rt.microsoft.com/cms/api/am/binary/RE4HkJP', 'page': 13}),\n",
      " Document(page_content='You can set up global clusters — available on Amazon W eb\\nServices, Microsoft Azure, and Google Cloud Platform —\\nwith just a f ew clic ks in the MongoD B Atlas U I. MongoD B', metadata={'_id': {'$oid': '665b847e0e1fd5f2b980b9d3'}, 'source': 'https://query.prod.cms.rt.microsoft.com/cms/api/am/binary/RE4HkJP', 'page': 12}),\n",
      " Document(page_content='Table of Contents\\n1 Introduction\\n2 Preparing for a MongoD B Deployment\\n9 Scaling a MongoD B Atlas Cluster\\n11 Continuous A vailability & Data Consistency\\n12 Managing MongoD B\\n16 Security', metadata={'_id': {'$oid': '665b847e0e1fd5f2b980b8ee'}, 'source': 'https://query.prod.cms.rt.microsoft.com/cms/api/am/binary/RE4HkJP', 'page': 1}),\n",
      " Document(page_content='Disaster Recovery\\nCreated by the engineers who develop the database,\\nMongoD B Atlas is the simplest way to run MongoD B,\\nmaking it easy to deploy , monitor , backup, and scale\\nMongoD B.', metadata={'_id': {'$oid': '665b847e0e1fd5f2b980b9fb'}, 'source': 'https://query.prod.cms.rt.microsoft.com/cms/api/am/binary/RE4HkJP', 'page': 13}),\n",
      " Document(page_content='Atlas provides encryption of data at rest with encrypted\\nstorage volumes.\\nOptionally , Atlas users can configure an additional layer of\\nencryption on their data at rest using the MongoD B', metadata={'_id': {'$oid': '665b847e0e1fd5f2b980ba5c'}, 'source': 'https://query.prod.cms.rt.microsoft.com/cms/api/am/binary/RE4HkJP', 'page': 18}),\n",
      " Document(page_content='Security\\nAs with all software, MongoD B administrators must\\nconsider security and risk e xposure for a MongoD B\\ndeployment. T here are no magic solutions for risk', metadata={'_id': {'$oid': '665b847e0e1fd5f2b980ba49'}, 'source': 'https://query.prod.cms.rt.microsoft.com/cms/api/am/binary/RE4HkJP', 'page': 17}),\n",
      " Document(page_content='A larger number of replica nodes provides increased\\nprotection against database downtime in case of multiple\\nmachine failures.\\nMongoD B Atlas replica sets have a minimum of 3 nodes', metadata={'_id': {'$oid': '665b847e0e1fd5f2b980b9e2'}, 'source': 'https://query.prod.cms.rt.microsoft.com/cms/api/am/binary/RE4HkJP', 'page': 12})]\n"
     ]
    }
   ],
   "source": [
    "# Instantiate Atlas Vector Search as a retriever\n",
    "retriever = vector_search.as_retriever(\n",
    "   search_type = \"similarity\",\n",
    "   search_kwargs = {\"k\": 10, \"score_threshold\": 0.75}\n",
    ")\n",
    "\n",
    "# Define a prompt template\n",
    "template = \"\"\"\n",
    "\n",
    "Use the following pieces of context to answer the question at the end.\n",
    "If you don't know the answer, just say that you don't know, don't try to make up an answer.\n",
    "\n",
    "{context}\n",
    "\n",
    "Question: {question}\n",
    "\"\"\"\n",
    "custom_rag_prompt = PromptTemplate.from_template(template)\n",
    "\n",
    "llm = ChatOpenAI()\n",
    "\n",
    "def format_docs(docs):\n",
    "   return \"\\n\\n\".join(doc.page_content for doc in docs)\n",
    "\n",
    "# Construct a chain to answer questions on your data\n",
    "rag_chain = (\n",
    "   { \"context\": retriever | format_docs, \"question\": RunnablePassthrough()}\n",
    "   | custom_rag_prompt\n",
    "   | llm\n",
    "   | StrOutputParser()\n",
    ")\n",
    "\n",
    "# Prompt the chain\n",
    "question = \"How can I secure my MongoDB Atlas cluster?\"\n",
    "answer = rag_chain.invoke(question)\n",
    "\n",
    "print(\"Question: \" + question)\n",
    "print(\"Answer: \" + answer)\n",
    "\n",
    "# Return source documents\n",
    "documents = retriever.get_relevant_documents(question)\n",
    "print(\"\\nSource documents:\")\n",
    "pprint.pprint(documents)"
   ]
  },
  {
   "cell_type": "markdown",
   "metadata": {},
   "source": [
    "# Example 2\n",
    "RAG with filtering"
   ]
  },
  {
   "cell_type": "code",
   "execution_count": 13,
   "metadata": {},
   "outputs": [
    {
     "name": "stdout",
     "output_type": "stream",
     "text": [
      "Question: How can I secure my MongoDB Atlas cluster?\n",
      "Answer: To secure your MongoDB Atlas cluster, you can enable authentication and IP Address whitelisting, utilize roles and permissions to control access, implement a Defense in Depth approach, consider VPC Peering for secure connectivity, and consider integrating with LDAP for centralized authorization management. Additionally, regularly review the security section of MongoDB Atlas for best practices and updates on security measures.\n",
      "\n",
      "Source documents:\n",
      "[Document(page_content='To ensure a secure system right out of the b ox,\\nauthentication and I P Address whitelisting are\\nautomatically enabled.\\nReview the security section of the MongoD B Atlas', metadata={'_id': {'$oid': '665b847e0e1fd5f2b980ba4e'}, 'source': 'https://query.prod.cms.rt.microsoft.com/cms/api/am/binary/RE4HkJP', 'page': 17}),\n",
      " Document(page_content='Security\\nAs with all software, MongoD B administrators must\\nconsider security and risk e xposure for a MongoD B\\ndeployment. T here are no magic solutions for risk', metadata={'_id': {'$oid': '665b847e0e1fd5f2b980ba49'}, 'source': 'https://query.prod.cms.rt.microsoft.com/cms/api/am/binary/RE4HkJP', 'page': 17}),\n",
      " Document(page_content='number of diff erent methods for managing risk and\\nreducing risk e xposure.\\nMongoD B Atlas f eatures e xtensive capabilities to def end,\\ndetect, and control access to MongoD B, off ering among', metadata={'_id': {'$oid': '665b847e0e1fd5f2b980ba4b'}, 'source': 'https://query.prod.cms.rt.microsoft.com/cms/api/am/binary/RE4HkJP', 'page': 17}),\n",
      " Document(page_content='permissions for a user or application, and what data it can\\naccess when querying MongoD B. MongoD B Atlas provides\\nthe ability to provision users with roles specific to a', metadata={'_id': {'$oid': '665b847e0e1fd5f2b980ba53'}, 'source': 'https://query.prod.cms.rt.microsoft.com/cms/api/am/binary/RE4HkJP', 'page': 17}),\n",
      " Document(page_content='connectivity without using public I P addresses, and without\\nneeding to whitelist every client in your MongoD B Atlas\\ngroup.\\nAuthorization\\nMongoD B Atlas allows administrators to define', metadata={'_id': {'$oid': '665b847e0e1fd5f2b980ba52'}, 'source': 'https://query.prod.cms.rt.microsoft.com/cms/api/am/binary/RE4HkJP', 'page': 17}),\n",
      " Document(page_content='mitigation, and maintaining a secure MongoD B deployment\\nis an ongoing process.\\nDefense in Depth\\nA Def ense in Depth approac h is recommended for\\nsecuring MongoD B deployments, and it addresses a', metadata={'_id': {'$oid': '665b847e0e1fd5f2b980ba4a'}, 'source': 'https://query.prod.cms.rt.microsoft.com/cms/api/am/binary/RE4HkJP', 'page': 17}),\n",
      " Document(page_content='optimization.\\nIn addition, MongoD B Atlas provides pac kaged integration\\nwith the New Relic platform. K ey metrics from MongoD B\\nAtlas are accessible to the AP M for visualization, enabling', metadata={'_id': {'$oid': '665b847e0e1fd5f2b980ba46'}, 'source': 'https://query.prod.cms.rt.microsoft.com/cms/api/am/binary/RE4HkJP', 'page': 17}),\n",
      " Document(page_content='their I P address (or a C IDR covering their I P address) has\\nbeen added to the IP whitelist for your MongoD B Atlas\\ngroup.\\nVPC P eering\\nVirtual P rivate Cloud (VPC) P eering allows users to create', metadata={'_id': {'$oid': '665b847e0e1fd5f2b980ba50'}, 'source': 'https://query.prod.cms.rt.microsoft.com/cms/api/am/binary/RE4HkJP', 'page': 17}),\n",
      " Document(page_content='dedicated A tlas clusters using credentials that are verified\\nby a centralized L DAP server . Authorization management is\\nsimplified by allowing control at the L DAP group level.', metadata={'_id': {'$oid': '665b847e0e1fd5f2b980ba55'}, 'source': 'https://query.prod.cms.rt.microsoft.com/cms/api/am/binary/RE4HkJP', 'page': 17}),\n",
      " Document(page_content='database, making it possible to realize a separation of\\nduties between diff erent entities accessing and managing\\nthe data.\\nAtlas supports L DAP integration, allowing users to login to', metadata={'_id': {'$oid': '665b847e0e1fd5f2b980ba54'}, 'source': 'https://query.prod.cms.rt.microsoft.com/cms/api/am/binary/RE4HkJP', 'page': 17})]\n"
     ]
    }
   ],
   "source": [
    "# Instantiate Atlas Vector Search as a retriever\n",
    "retriever = vector_search.as_retriever(\n",
    "   search_type = \"similarity\",\n",
    "   search_kwargs = {\n",
    "      \"k\": 10,\n",
    "      \"score_threshold\": 0.75,\n",
    "      \"pre_filter\": { \"page\": { \"$eq\": 17 } }\n",
    "   }\n",
    ")\n",
    "\n",
    "# Define a prompt template\n",
    "template = \"\"\"\n",
    "\n",
    "Use the following pieces of context to answer the question at the end.\n",
    "If you don't know the answer, just say that you don't know, don't try to make up an answer.\n",
    "\n",
    "{context}\n",
    "\n",
    "Question: {question}\n",
    "\"\"\"\n",
    "custom_rag_prompt = PromptTemplate.from_template(template)\n",
    "\n",
    "llm = ChatOpenAI()\n",
    "\n",
    "def format_docs(docs):\n",
    "   return \"\\n\\n\".join(doc.page_content for doc in docs)\n",
    "\n",
    "# Construct a chain to answer questions on your data\n",
    "rag_chain = (\n",
    "   { \"context\": retriever | format_docs, \"question\": RunnablePassthrough()}\n",
    "   | custom_rag_prompt\n",
    "   | llm\n",
    "   | StrOutputParser()\n",
    ")\n",
    "\n",
    "# Prompt the chain\n",
    "question = \"How can I secure my MongoDB Atlas cluster?\"\n",
    "answer = rag_chain.invoke(question)\n",
    "\n",
    "print(\"Question: \" + question)\n",
    "print(\"Answer: \" + answer)\n",
    "\n",
    "# Return source documents\n",
    "documents = retriever.get_relevant_documents(question)\n",
    "print(\"\\nSource documents:\")\n",
    "pprint.pprint(documents)"
   ]
  }
 ],
 "metadata": {
  "kernelspec": {
   "display_name": "hack-dev",
   "language": "python",
   "name": "python3"
  },
  "language_info": {
   "codemirror_mode": {
    "name": "ipython",
    "version": 3
   },
   "file_extension": ".py",
   "mimetype": "text/x-python",
   "name": "python",
   "nbconvert_exporter": "python",
   "pygments_lexer": "ipython3",
   "version": "3.11.4"
  }
 },
 "nbformat": 4,
 "nbformat_minor": 2
}
